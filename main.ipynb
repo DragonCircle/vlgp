{
 "cells": [
  {
   "cell_type": "code",
   "execution_count": 14,
   "metadata": {
    "collapsed": false
   },
   "outputs": [
    {
     "name": "stdout",
     "output_type": "stream",
     "text": [
      "The autoreload extension is already loaded. To reload it, use:\n",
      "  %reload_ext autoreload\n"
     ]
    }
   ],
   "source": [
    "%load_ext autoreload\n",
    "%autoreload 2\n",
    "%matplotlib inline"
   ]
  },
  {
   "cell_type": "code",
   "execution_count": 15,
   "metadata": {
    "collapsed": true
   },
   "outputs": [],
   "source": [
    "import os.path\n",
    "from datetime import datetime\n",
    "import numpy as np\n",
    "from scipy import linalg\n",
    "from pylab import *\n",
    "from matplotlib.backends.backend_pdf import PdfPages\n",
    "import h5py\n",
    "from sklearn.decomposition.factor_analysis import FactorAnalysis\n",
    "\n",
    "from optimization import *\n",
    "import simulation"
   ]
  },
  {
   "cell_type": "code",
   "execution_count": 13,
   "metadata": {
    "collapsed": false
   },
   "outputs": [
    {
     "name": "stdout",
     "output_type": "stream",
     "text": [
      "\n",
      "Iteration[2]:\n",
      "lower bound = -4170.70997\n",
      "increment = 46031190919.5588531494\n",
      "change in alpha = 0.0000000000\n",
      "change in beta = 0.9999991380\n",
      "change in posterior mean = 0.3503595245\n",
      "change in posterior covariance = 4.9999996179\n",
      "\n",
      "Iteration[3]:\n",
      "lower bound = -918.04499\n",
      "increment = 3252.6649825561\n",
      "change in alpha = 1.5496849465\n",
      "change in beta = 1.3846763419\n",
      "change in posterior mean = 0.8380306279\n",
      "change in posterior covariance = 0.0797720354\n",
      "\n",
      "Iteration[4]:\n",
      "lower bound = -831.81830\n",
      "increment = 86.2266893945\n",
      "change in alpha = 1.1260313697\n",
      "change in beta = 1.5650259101\n",
      "change in posterior mean = 2.1851170111\n",
      "change in posterior covariance = 0.0583619812\n",
      "\n",
      "Iteration[5]:\n",
      "lower bound = -820.65303\n",
      "increment = 11.1652703733\n",
      "change in alpha = 0.8405776332\n",
      "change in beta = 2.2234406367\n",
      "change in posterior mean = 1.5492048947\n",
      "change in posterior covariance = 0.0748749667\n",
      "\n",
      "Iteration[6]:\n",
      "lower bound = -811.13514\n",
      "increment = 9.5178857735\n",
      "change in alpha = 0.9807419979\n",
      "change in beta = 0.6348384441\n",
      "change in posterior mean = 0.0000000000\n",
      "change in posterior covariance = 0.0265446324\n",
      "\n",
      "Iteration[7]:\n",
      "lower bound = -800.94259\n",
      "increment = 10.1925581093\n",
      "change in alpha = 0.0000000000\n",
      "change in beta = 0.8000945071\n",
      "change in posterior mean = 1.1307989905\n",
      "change in posterior covariance = 0.0712206919\n",
      "\n",
      "Iteration[8]:\n",
      "lower bound = -800.17500\n",
      "increment = 0.7675873634\n",
      "change in alpha = 0.3733623298\n",
      "change in beta = 0.3183958549\n",
      "change in posterior mean = 0.6890696738\n",
      "change in posterior covariance = 0.0342309520\n",
      "\n",
      "Iteration[9]:\n",
      "lower bound = -795.31898\n",
      "increment = 4.8560168408\n",
      "change in alpha = 0.5866799028\n",
      "change in beta = 0.4798244556\n",
      "change in posterior mean = 0.3627083117\n",
      "change in posterior covariance = 0.0199499907\n",
      "\n",
      "Iteration[10]:\n",
      "lower bound = -794.55351\n",
      "increment = 0.7654753815\n",
      "change in alpha = 0.0000000000\n",
      "change in beta = 0.5955934028\n",
      "change in posterior mean = 0.6883063966\n",
      "change in posterior covariance = 0.0109513379\n",
      "\n",
      "Iteration[11]:\n",
      "lower bound = -797.52074\n",
      "increment = -2.9672315522\n",
      "change in alpha = 0.4652468510\n",
      "change in beta = 0.3814391374\n",
      "change in posterior mean = 0.3315021888\n",
      "change in posterior covariance = 0.0156934581\n",
      "\n",
      "Iteration[12]:\n",
      "lower bound = -787.47856\n",
      "increment = 10.0421760478\n",
      "change in alpha = 0.1907310338\n",
      "change in beta = 0.2020014121\n",
      "change in posterior mean = 0.3431907197\n",
      "change in posterior covariance = 0.0207419327\n",
      "\n",
      "Iteration[13]:\n",
      "lower bound = -790.02224\n",
      "increment = -2.5436811290\n",
      "change in alpha = 0.1623716994\n",
      "change in beta = 0.2860089711\n",
      "change in posterior mean = 0.6056655987\n",
      "change in posterior covariance = 0.0123226675\n",
      "\n",
      "Iteration[14]:\n",
      "lower bound = -788.90195\n",
      "increment = 1.1202895397\n",
      "change in alpha = 0.5364393792\n",
      "change in beta = 0.3706403737\n",
      "change in posterior mean = 0.0000000000\n",
      "change in posterior covariance = 0.0103705962\n",
      "\n",
      "Iteration[15]:\n",
      "lower bound = -783.31325\n",
      "increment = 5.5887005919\n",
      "change in alpha = 0.0000000000\n",
      "change in beta = 0.0532693526\n",
      "change in posterior mean = 0.2887228843\n",
      "change in posterior covariance = 0.0042600733\n",
      "\n",
      "Iteration[16]:\n",
      "lower bound = -787.41048\n",
      "increment = -4.0972238063\n",
      "change in alpha = 0.2810012165\n",
      "change in beta = 0.2417478935\n",
      "change in posterior mean = 0.3152144898\n",
      "change in posterior covariance = 0.0126617677\n",
      "\n",
      "Iteration[17]:\n",
      "lower bound = -785.01089\n",
      "increment = 2.3995842102\n",
      "change in alpha = 0.2300274059\n",
      "change in beta = 0.2797120630\n",
      "change in posterior mean = 0.1776062961\n",
      "change in posterior covariance = 0.0164880299\n",
      "\n",
      "Iteration[18]:\n",
      "lower bound = -784.80953\n",
      "increment = 0.2013679138\n",
      "change in alpha = 0.0000000000\n",
      "change in beta = 0.0527965416\n",
      "change in posterior mean = 0.1312616143\n",
      "change in posterior covariance = 0.0047160202\n",
      "\n",
      "Iteration[19]:\n",
      "lower bound = -785.08641\n",
      "increment = -0.2768887327\n",
      "change in alpha = 0.1633992323\n",
      "change in beta = 0.2561274814\n",
      "change in posterior mean = 0.2401433193\n",
      "change in posterior covariance = 0.0083324305\n",
      "\n",
      "Iteration[20]:\n",
      "lower bound = -783.46148\n",
      "increment = 1.6249346070\n",
      "change in alpha = 0.1259545328\n",
      "change in beta = 0.1497332089\n",
      "change in posterior mean = 0.2045018162\n",
      "change in posterior covariance = 0.0206759903\n",
      "\n",
      "Iteration[21]:\n",
      "lower bound = -784.26939\n",
      "increment = -0.8079098566\n",
      "change in alpha = 0.1356828442\n",
      "change in beta = 0.0600389296\n",
      "change in posterior mean = 0.0955023681\n",
      "change in posterior covariance = 0.0023748548\n",
      "\n",
      "Iteration[22]:\n",
      "lower bound = -786.65295\n",
      "increment = -2.3835642889\n",
      "change in alpha = 0.1100269906\n",
      "change in beta = 0.1735467221\n",
      "change in posterior mean = 0.2549408103\n",
      "change in posterior covariance = 0.0059326177\n",
      "\n",
      "Iteration[23]:\n",
      "lower bound = -782.08059\n",
      "increment = 4.5723626595\n",
      "change in alpha = 0.1889707185\n",
      "change in beta = 0.0060813074\n",
      "change in posterior mean = 0.1317733103\n",
      "change in posterior covariance = 0.0041490177\n",
      "\n",
      "Iteration[24]:\n",
      "lower bound = -787.06835\n",
      "increment = -4.9877639663\n",
      "change in alpha = 0.0000000000\n",
      "change in beta = 0.0868092125\n",
      "change in posterior mean = 0.1099945780\n",
      "change in posterior covariance = 0.0021591140\n",
      "\n",
      "Iteration[25]:\n",
      "lower bound = -784.30257\n",
      "increment = 2.7657893475\n",
      "change in alpha = 0.0915036371\n",
      "change in beta = 0.0448576081\n",
      "change in posterior mean = 0.1326560886\n",
      "change in posterior covariance = 0.0087319835\n",
      "\n",
      "Iteration[26]:\n",
      "lower bound = -785.88398\n",
      "increment = -1.5814111222\n",
      "change in alpha = 0.1180329211\n",
      "change in beta = 0.0150562421\n",
      "change in posterior mean = 0.1939681585\n",
      "change in posterior covariance = 0.0128214985\n",
      "\n",
      "Iteration[27]:\n",
      "lower bound = -782.58278\n",
      "increment = 3.3012014763\n",
      "change in alpha = 0.1472513792\n",
      "change in beta = 0.2832838807\n",
      "change in posterior mean = 0.0982932340\n",
      "change in posterior covariance = 0.0087639723\n",
      "\n",
      "Iteration[28]:\n",
      "lower bound = -781.81506\n",
      "increment = 0.7677159637\n",
      "change in alpha = 0.1272075962\n",
      "change in beta = 0.0367341547\n",
      "change in posterior mean = 0.1045695961\n",
      "change in posterior covariance = 0.0052703197\n",
      "\n",
      "Iteration[29]:\n",
      "lower bound = -784.84544\n",
      "increment = -3.0303762050\n",
      "change in alpha = 0.0000000000\n",
      "change in beta = 0.0079844332\n",
      "change in posterior mean = 0.0442836069\n",
      "change in posterior covariance = 0.0021934897\n",
      "\n",
      "Iteration[30]:\n",
      "lower bound = -781.69063\n",
      "increment = 3.1548092563\n",
      "change in alpha = 0.0856420287\n",
      "change in beta = 0.1171716327\n",
      "change in posterior mean = 0.1211901682\n",
      "change in posterior covariance = 0.0062429479\n",
      "\n",
      "Iteration[31]:\n",
      "lower bound = -780.79724\n",
      "increment = 0.8933881620\n",
      "change in alpha = 0.0000000000\n",
      "change in beta = 0.0566670179\n",
      "change in posterior mean = 0.0569221679\n",
      "change in posterior covariance = 0.0034961249\n",
      "\n",
      "Iteration[32]:\n",
      "lower bound = -782.86518\n",
      "increment = -2.0679466111\n",
      "change in alpha = 0.0346604723\n",
      "change in beta = 0.0631003071\n",
      "change in posterior mean = 0.0918422685\n",
      "change in posterior covariance = 0.0032871293\n",
      "\n",
      "Iteration[33]:\n",
      "lower bound = -781.29851\n",
      "increment = 1.5666752565\n",
      "change in alpha = 0.0309848045\n",
      "change in beta = 0.0437925032\n",
      "change in posterior mean = 0.0680751615\n",
      "change in posterior covariance = 0.0029785004\n",
      "\n",
      "Iteration[34]:\n",
      "lower bound = -783.55030\n",
      "increment = -2.2517858794\n",
      "change in alpha = 0.0443365158\n",
      "change in beta = 0.0244057153\n",
      "change in posterior mean = 0.0323778303\n",
      "change in posterior covariance = 0.0020825403\n",
      "\n",
      "Iteration[35]:\n",
      "lower bound = -781.04357\n",
      "increment = 2.5067283715\n",
      "change in alpha = 0.0000000000\n",
      "change in beta = 0.0851585014\n",
      "change in posterior mean = 0.0403636306\n",
      "change in posterior covariance = 0.0007288948\n",
      "\n",
      "Iteration[36]:\n",
      "lower bound = -781.59353\n",
      "increment = -0.5499679283\n",
      "change in alpha = 0.0601742879\n",
      "change in beta = 0.0166157778\n",
      "change in posterior mean = 0.0000000000\n",
      "change in posterior covariance = 0.0050045377\n",
      "\n",
      "Iteration[37]:\n",
      "lower bound = -783.25220\n",
      "increment = -1.6586678582\n",
      "change in alpha = 0.0000000000\n",
      "change in beta = 0.0697447837\n",
      "change in posterior mean = 0.0284399172\n",
      "change in posterior covariance = 0.0013660435\n",
      "\n",
      "Iteration[38]:\n",
      "lower bound = -784.03791\n",
      "increment = -0.7857047917\n",
      "change in alpha = 0.0421112112\n",
      "change in beta = 0.0494345816\n",
      "change in posterior mean = 0.0242793274\n",
      "change in posterior covariance = 0.0009079096\n",
      "\n",
      "Iteration[39]:\n",
      "lower bound = -779.34906\n",
      "increment = 4.6888484898\n",
      "change in alpha = 0.0000000000\n",
      "change in beta = 0.0217438111\n",
      "change in posterior mean = 0.0194917423\n",
      "change in posterior covariance = 0.0011125811\n",
      "\n",
      "Iteration[40]:\n",
      "lower bound = -781.70143\n",
      "increment = -2.3523704244\n",
      "change in alpha = 0.0126389059\n",
      "change in beta = 0.0192186074\n",
      "change in posterior mean = 0.0507646190\n",
      "change in posterior covariance = 0.0018054669\n",
      "\n",
      "Iteration[41]:\n",
      "lower bound = -782.65922\n",
      "increment = -0.9577944578\n",
      "change in alpha = 0.0260695882\n",
      "change in beta = 0.0306339291\n",
      "change in posterior mean = 0.0454519492\n",
      "change in posterior covariance = 0.0039972098\n",
      "\n",
      "Iteration[42]:\n",
      "lower bound = -780.48378\n",
      "increment = 2.1754425121\n",
      "change in alpha = 0.0000000000\n",
      "change in beta = 0.0061023337\n",
      "change in posterior mean = 0.0327084890\n",
      "change in posterior covariance = 0.0010725143\n",
      "\n",
      "Iteration[43]:\n",
      "lower bound = -781.85800\n",
      "increment = -1.3742215576\n",
      "change in alpha = 0.0165445993\n",
      "change in beta = 0.0191568692\n",
      "change in posterior mean = 0.0517469705\n",
      "change in posterior covariance = 0.0022774643\n",
      "\n",
      "Iteration[44]:\n",
      "lower bound = -779.19378\n",
      "increment = 2.6642251988\n",
      "change in alpha = 0.0229833035\n",
      "change in beta = 0.0108694911\n",
      "change in posterior mean = 0.0000000000\n",
      "change in posterior covariance = 0.0024993890\n",
      "\n",
      "Iteration[45]:\n",
      "lower bound = -779.07925\n",
      "increment = 0.1145229645\n",
      "change in alpha = 0.0000000000\n",
      "change in beta = 0.0274096033\n",
      "change in posterior mean = 0.0918279041\n",
      "change in posterior covariance = 0.0015973323\n",
      "\n",
      "Iteration[46]:\n",
      "lower bound = -779.17779\n",
      "increment = -0.0985336953\n",
      "change in alpha = 0.0188017972\n",
      "change in beta = 0.0131949167\n",
      "change in posterior mean = 0.0348767957\n",
      "change in posterior covariance = 0.0016624394\n",
      "\n",
      "Iteration[47]:\n",
      "lower bound = -781.45775\n",
      "increment = -2.2799635550\n",
      "change in alpha = 0.0202955682\n",
      "change in beta = 0.0391274271\n",
      "change in posterior mean = 0.0220708457\n",
      "change in posterior covariance = 0.0009711313\n",
      "\n",
      "Iteration[48]:\n",
      "lower bound = -779.76516\n",
      "increment = 1.6925892258\n",
      "change in alpha = 0.0000000000\n",
      "change in beta = 0.0084025427\n",
      "change in posterior mean = 0.0382536030\n",
      "change in posterior covariance = 0.0009997386\n",
      "\n",
      "Iteration[49]:\n",
      "lower bound = -782.35197\n",
      "increment = -2.5868041696\n",
      "change in alpha = 0.0184022386\n",
      "change in beta = 0.0349060944\n",
      "change in posterior mean = 0.0000000000\n",
      "change in posterior covariance = 0.0014890405\n",
      "\n",
      "Iteration[50]:\n",
      "lower bound = -786.99381\n",
      "increment = -4.6418443159\n",
      "change in alpha = 0.0152273746\n",
      "change in beta = 0.0102554333\n",
      "change in posterior mean = 0.0254321267\n",
      "change in posterior covariance = 0.0007553771\n"
     ]
    }
   ],
   "source": [
    "np.random.seed(0)\n",
    "\n",
    "T = 200\n",
    "l = 1e-4\n",
    "std = 1\n",
    "p = 0\n",
    "L = 2\n",
    "N = 20\n",
    "\n",
    "high = np.log(25 / T)\n",
    "low = np.log(5 / T)\n",
    "\n",
    "# simulate latent processes\n",
    "# x, ticks = simulation.latents(L, T, std, l)\n",
    "x = np.empty((T, L), dtype=float)\n",
    "x[:T // 2, 0] = high\n",
    "x[T // 2:, 0] = low\n",
    "x[:, 1] = 2 * np.sin(np.linspace(0, 2 * np.pi * 5, T))\n",
    "for l in range(L):\n",
    "    x[:, l] -= np.mean(x[:, l])\n",
    "\n",
    "# simulate spike trains\n",
    "# a = np.empty((L, N), dtype=float)\n",
    "a = 2 * np.random.rand(L, N) - 1\n",
    "for l in range(L):\n",
    "    a[l, :] /= linalg.norm(a[l, :]) / np.sqrt(N)\n",
    "\n",
    "b = np.empty((1 + p, N))\n",
    "# b[0, :] = np.diag(np.dot(a.T, (a < 0) * -(high + low)))\n",
    "b[0, :] = low\n",
    "y, _, rate = simulation.spikes(x, a, b, intercept=True)"
   ]
  },
  {
   "cell_type": "code",
   "execution_count": 16,
   "metadata": {
    "collapsed": false
   },
   "outputs": [
    {
     "data": {
      "image/png": "[encoded data removed]",
      "text/plain": [
       "<matplotlib.figure.Figure at 0x108e90358>"
      ]
     },
     "metadata": {},
     "output_type": "display_data"
    }
   ],
   "source": [
    "figure()\n",
    "ylim(0, N)\n",
    "for n in range(N):\n",
    "    vlines(np.arange(T)[y[:, n] > 0], n, n + 1, color='black')\n",
    "title('{} Spike trains'.format(N))\n",
    "yticks(range(N))\n",
    "gca().invert_yaxis()"
   ]
  },
  {
   "cell_type": "code",
   "execution_count": null,
   "metadata": {
    "collapsed": true
   },
   "outputs": [],
   "source": [
    "fa = FactorAnalysis(n_components=L)\n",
    "m0 = fa.fit_transform(y)\n",
    "a0 = fa.components_\n",
    "# a0 = np.random.randn(L, N)\n",
    "m0 *= np.linalg.norm(a0) / np.sqrt(N)\n",
    "a0 /= np.linalg.norm(a0) / np.sqrt(N)\n",
    "\n",
    "mu = np.zeros_like(x)\n",
    "\n",
    "var = np.empty(L, dtype=float)\n",
    "var[0] = 5\n",
    "var[1] = 5\n",
    "w = np.empty(L, dtype=float)\n",
    "w[0] = 1e-3\n",
    "w[1] = 1e-3\n",
    "\n",
    "initial = {'alpha': a0,\n",
    "           'beta': None,\n",
    "           'posterior mean': mu}\n",
    "\n",
    "control = {'max iteration': 50,\n",
    "           'fixed-point iteration': 3,\n",
    "           'tol': 1e-4,\n",
    "           'verbose': True}\n",
    "\n",
    "lbound, m, V, a1, b1, a0, b0, elapsed, converged = variational(y, 0, mu, var, w,\n",
    "                                                               a0=a0,\n",
    "                                                               b0=None,\n",
    "                                                               m0=m0,\n",
    "                                                               fixalpha=False, fixbeta=False, fixpostmean=False,\n",
    "                                                               fixpostcov=False,\n",
    "                                                               normofalpha=np.sqrt(N), intercept=True,\n",
    "                                                               hyper=False,\n",
    "                                                               control=control)"
   ]
  },
  {
   "cell_type": "code",
   "execution_count": 18,
   "metadata": {
    "collapsed": false
   },
   "outputs": [
    {
     "data": {
      "text/plain": [
       "<matplotlib.text.Text at 0x10577b3c8>"
      ]
     },
     "execution_count": 18,
     "metadata": {},
     "output_type": "execute_result"
    },
    {
     "data": {
      "image/png": "[encoded data removed]",
      "text/plain": [
       "<matplotlib.figure.Figure at 0x10a85b9e8>"
      ]
     },
     "metadata": {},
     "output_type": "display_data"
    }
   ],
   "source": [
    "figure()\n",
    "plot(m0)\n",
    "title('Factor analysis')"
   ]
  },
  {
   "cell_type": "code",
   "execution_count": 27,
   "metadata": {
    "collapsed": false
   },
   "outputs": [
    {
     "data": {
      "text/plain": [
       "<matplotlib.text.Text at 0x10a691940>"
      ]
     },
     "execution_count": 27,
     "metadata": {},
     "output_type": "execute_result"
    },
    {
     "data": {
      "image/png": "[encoded data removed]",
      "text/plain": [
       "<matplotlib.figure.Figure at 0x10a674da0>"
      ]
     },
     "metadata": {},
     "output_type": "display_data"
    }
   ],
   "source": [
    "figure()\n",
    "plot(lbound[2:])\n",
    "yticks([])\n",
    "title('Lower bound={:.3f}, iteration={:d}, time={:.2f}s, L={:d}, N={:d}'.format(lbound[-1], len(lbound), elapsed, L, N))"
   ]
  },
  {
   "cell_type": "code",
   "execution_count": 26,
   "metadata": {
    "collapsed": false
   },
   "outputs": [
    {
     "data": {
      "text/plain": [
       "-786.99381107759928"
      ]
     },
     "execution_count": 26,
     "metadata": {},
     "output_type": "execute_result"
    }
   ],
   "source": [
    "lbound[-1]"
   ]
  },
  {
   "cell_type": "code",
   "execution_count": 30,
   "metadata": {
    "collapsed": false
   },
   "outputs": [
    {
     "data": {
      "text/plain": [
       "<matplotlib.text.Text at 0x1091fef98>"
      ]
     },
     "execution_count": 30,
     "metadata": {},
     "output_type": "execute_result"
    },
    {
     "data": {
      "image/png": "[encoded data removed]",
      "text/plain": [
       "<matplotlib.figure.Figure at 0x10a0f4278>"
      ]
     },
     "metadata": {},
     "output_type": "display_data"
    }
   ],
   "source": [
    "figure()\n",
    "plot(m)\n",
    "title('Posterior mean')"
   ]
  },
  {
   "cell_type": "code",
   "execution_count": 33,
   "metadata": {
    "collapsed": false
   },
   "outputs": [
    {
     "data": {
      "image/png": "[encoded data removed]",
      "text/plain": [
       "<matplotlib.figure.Figure at 0x108fadac8>"
      ]
     },
     "metadata": {},
     "output_type": "display_data"
    },
    {
     "data": {
      "image/png": "[encoded data removed]",
      "text/plain": [
       "<matplotlib.figure.Figure at 0x10924a208>"
      ]
     },
     "metadata": {},
     "output_type": "display_data"
    }
   ],
   "source": [
    "c = linalg.lstsq(m, x)[0]\n",
    "m2 = np.dot(m, c)\n",
    "for l in range(L):\n",
    "    figure()\n",
    "    plot(x[:, l] - np.mean(x[:, l]), label='latent', color='blue')\n",
    "    plot(m2[:, l], label='transformed posterior', color='red')\n",
    "    title('Rotated posterior {}'.format(l + 1))"
   ]
  },
  {
   "cell_type": "code",
   "execution_count": 80,
   "metadata": {
    "collapsed": false
   },
   "outputs": [
    {
     "data": {
      "text/plain": [
       "array([[ 3.16227766,  3.16227766],\n",
       "       [ 3.16227766,  1.33352143],\n",
       "       [ 3.16227766,  0.56234133],\n",
       "       [ 3.16227766,  0.23713737],\n",
       "       [ 3.16227766,  0.1       ],\n",
       "       [ 1.33352143,  3.16227766],\n",
       "       [ 1.33352143,  1.33352143],\n",
       "       [ 1.33352143,  0.56234133],\n",
       "       [ 1.33352143,  0.23713737],\n",
       "       [ 1.33352143,  0.1       ],\n",
       "       [ 0.56234133,  3.16227766],\n",
       "       [ 0.56234133,  1.33352143],\n",
       "       [ 0.56234133,  0.56234133],\n",
       "       [ 0.56234133,  0.23713737],\n",
       "       [ 0.56234133,  0.1       ],\n",
       "       [ 0.23713737,  3.16227766],\n",
       "       [ 0.23713737,  1.33352143],\n",
       "       [ 0.23713737,  0.56234133],\n",
       "       [ 0.23713737,  0.23713737],\n",
       "       [ 0.23713737,  0.1       ],\n",
       "       [ 0.1       ,  3.16227766],\n",
       "       [ 0.1       ,  1.33352143],\n",
       "       [ 0.1       ,  0.56234133],\n",
       "       [ 0.1       ,  0.23713737],\n",
       "       [ 0.1       ,  0.1       ]])"
      ]
     },
     "execution_count": 80,
     "metadata": {},
     "output_type": "execute_result"
    }
   ],
   "source": [
    "ngrid = 5\n",
    "v = np.logspace(-0.5, 1, num=ngrid, base=0.1)\n",
    "grid = np.squeeze(np.dstack((np.repeat(v, ngrid), np.tile(v, ngrid))))\n",
    "grid"
   ]
  },
  {
   "cell_type": "code",
   "execution_count": null,
   "metadata": {
    "collapsed": true
   },
   "outputs": [],
   "source": [
    "lb4v = np.empty(ngrid ** 2)\n",
    "for i in range(ngrid ** 2):\n",
    "    lbound, m, V, a1, b1, a0, b0, elapsed, converged = variational(y, 0, mu, grid[i, :], w,\n",
    "                                                               a0=a0,\n",
    "                                                               b0=None,\n",
    "                                                               m0=m0,\n",
    "                                                               fixalpha=False, fixbeta=False, fixpostmean=False,\n",
    "                                                               fixpostcov=False,\n",
    "                                                               normofalpha=np.sqrt(N), intercept=True,\n",
    "                                                               hyper=False,\n",
    "                                                               control=control)\n",
    "    lb4v[i] = lbound"
   ]
  },
  {
   "cell_type": "code",
   "execution_count": null,
   "metadata": {
    "collapsed": true
   },
   "outputs": [],
   "source": []
  }
 ],
 "metadata": {
  "kernelspec": {
   "display_name": "Python 3",
   "language": "python",
   "name": "python3"
  },
  "language_info": {
   "codemirror_mode": {
    "name": "ipython",
    "version": 3
   },
   "file_extension": ".py",
   "mimetype": "text/x-python",
   "name": "python",
   "nbconvert_exporter": "python",
   "pygments_lexer": "ipython3",
   "version": "3.4.3"
  }
 },
 "nbformat": 4,
 "nbformat_minor": 0
}
